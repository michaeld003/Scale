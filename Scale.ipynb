{
 "cells": [
  {
   "cell_type": "code",
   "execution_count": 1,
   "metadata": {},
   "outputs": [
    {
     "name": "stdout",
     "output_type": "stream",
     "text": [
      "The temperature is: 243degree C\n",
      "The temperature is: 26degree C\n"
     ]
    }
   ],
   "source": [
    "from tkinter import*\n",
    "\n",
    "\n",
    "\n",
    "def submit():\n",
    "    print(\"The temperature is: \"+ str(scale.get())+\"degree C\")\n",
    "\n",
    "window=Tk() #this is for the window \n",
    "\n",
    "\n",
    "#getting the image file\n",
    "FlameImage=PhotoImage(\"file=flame.png\")\n",
    "\n",
    "#we are adding this to a label an area widget that holds text and /or an image within a window\n",
    "hotLabel=Label(image=FlameImage)\n",
    "hotLabel.pack()\n",
    "\n",
    "\n",
    "#this is for the scale\n",
    "scale=Scale(window,#we are adding the scale to our window\n",
    "            from_=300,#we are listing a from position to a to position(range)(put a underscore too)\n",
    "            to=0,\n",
    "            length=700,#changing the length of the scale\n",
    "            orient=VERTICAL,#changing the orientation e.g. vertical or horizontal\n",
    "            font=(\"Arial\",20),#adding the font and the size\n",
    "            tickinterval=5,#numeric indicators on the scale \n",
    "            showvalue=0,#hides the current value if you set at 0 but will show once you submit on the panel\n",
    "            troughcolor=\"white\",#the colour of the through\n",
    "            fg=\"red\",#change of font colour\n",
    "            bg=\"black\",#background colour\n",
    "            )\n",
    "\n",
    "\n",
    "#scale.set(100)#sets where the position of the scale will be when starting\n",
    "scale .set((scale[\"from\"]-scale[\"to\"])/2+scale[\"to\"])#this is a formula that will always put the scale in the middle no matter the change of the scale range\n",
    "\n",
    "\n",
    "scale.pack()#this is to dispay the scale\n",
    "\n",
    "\n",
    "#getting the image file\n",
    "SnowFlakeImage=PhotoImage(\"file=snowflale.png\")\n",
    "\n",
    "#we are adding this to a label an area widget that holds text and /or an image within a window\n",
    "coldLabel=Label(image=SnowFlakeImage)\n",
    "coldLabel.pack()\n",
    "\n",
    "#this is to get the current value\n",
    "button=Button(window,#we are addding this to the window\n",
    "              text=\"submit\",\n",
    "              command=submit)\n",
    "button.pack()\n",
    "window.mainloop()#part of the window"
   ]
  }
 ],
 "metadata": {
  "kernelspec": {
   "display_name": "Python 3",
   "language": "python",
   "name": "python3"
  },
  "language_info": {
   "codemirror_mode": {
    "name": "ipython",
    "version": 3
   },
   "file_extension": ".py",
   "mimetype": "text/x-python",
   "name": "python",
   "nbconvert_exporter": "python",
   "pygments_lexer": "ipython3",
   "version": "3.10.7"
  },
  "orig_nbformat": 4
 },
 "nbformat": 4,
 "nbformat_minor": 2
}
